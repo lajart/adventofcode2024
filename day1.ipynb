{
 "cells": [
  {
   "cell_type": "code",
   "execution_count": 29,
   "metadata": {},
   "outputs": [
    {
     "name": "stdout",
     "output_type": "stream",
     "text": [
      "10996\n"
     ]
    }
   ],
   "source": [
    "foo = []\n",
    "bar = []\n",
    "with open(r\"C:\\Users\\rtz\\Documents\\GitHub\\adventofcode2024\\input\") as text:\n",
    "    for line in text:\n",
    "        foo.append(int(line.split(\"   \")[0]))\n",
    "        bar.append(int(line.split(\"   \")[1]))\n",
    "\n",
    "foo.sort()\n",
    "bar.sort()\n",
    "print(bar[5])"
   ]
  },
  {
   "cell_type": "code",
   "execution_count": 30,
   "metadata": {},
   "outputs": [
    {
     "name": "stdout",
     "output_type": "stream",
     "text": [
      "1666427\n"
     ]
    }
   ],
   "source": [
    "totaldist = 0\n",
    "\n",
    "for i in range(len(foo)):\n",
    "   # print(i)\n",
    "    if foo[i] > bar[i]:\n",
    "        totaldist += foo[i] - bar[i]\n",
    "    elif bar[i] > foo[i]:\n",
    "        totaldist += bar[i] - foo[i]\n",
    "    else:\n",
    "        pass\n",
    "\n",
    "\n",
    "print(totaldist) # answer for first task\n",
    "\n",
    "\n"
   ]
  },
  {
   "cell_type": "code",
   "execution_count": 31,
   "metadata": {},
   "outputs": [
    {
     "name": "stdout",
     "output_type": "stream",
     "text": [
      "24316233\n"
     ]
    }
   ],
   "source": [
    "simscore = 0\n",
    "\n",
    "for i in range(len(foo)):\n",
    "   # print(foo[i])\n",
    "    counted=bar.count(foo[i])\n",
    "    counted = counted * foo[i]\n",
    "   # print(counted)\n",
    "    simscore += counted\n",
    "\n",
    "print(simscore)"
   ]
  }
 ],
 "metadata": {
  "kernelspec": {
   "display_name": "yee",
   "language": "python",
   "name": "python3"
  },
  "language_info": {
   "codemirror_mode": {
    "name": "ipython",
    "version": 3
   },
   "file_extension": ".py",
   "mimetype": "text/x-python",
   "name": "python",
   "nbconvert_exporter": "python",
   "pygments_lexer": "ipython3",
   "version": "3.13.0"
  }
 },
 "nbformat": 4,
 "nbformat_minor": 2
}
