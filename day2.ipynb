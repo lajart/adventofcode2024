{
 "cells": [
  {
   "cell_type": "code",
   "execution_count": null,
   "metadata": {},
   "outputs": [
    {
     "name": "stdout",
     "output_type": "stream",
     "text": [
      "359\n"
     ]
    }
   ],
   "source": [
    "\n",
    "with open(r\"C:\\Users\\rtz\\Documents\\GitHub\\adventofcode2024\\inputday2\") as text: \n",
    "    content = text.readlines()\n",
    "\n",
    "content = [x.strip() for x in content]\n",
    "\n",
    "codes = []\n",
    "\n",
    "for i in range(len(content)):\n",
    "    line = []\n",
    "    for item in content[i].split(\" \"):\n",
    "        line.append(int(item))\n",
    "    codes.append(line)\n",
    "\n",
    "#print(codes[1])\n",
    "\n",
    "def is_safe(sequence):# gpt for logic, my logic failed hard here\n",
    "    is_increasing = all(sequence[i] < sequence[i+1] and 1 <= sequence[i+1] - sequence[i] <= 3 for i in range(len(sequence) -1))\n",
    "    is_decreasing = all(sequence[i] > sequence[i+1] and 1 <= sequence[i] - sequence[i+1] <= 3 for i in range(len(sequence) -1))\n",
    "    return is_increasing or is_decreasing\n",
    "\n",
    "safes = sum(1 for code in codes if is_safe(code))\n",
    "print(safes)"
   ]
  },
  {
   "cell_type": "code",
   "execution_count": null,
   "metadata": {},
   "outputs": [
    {
     "name": "stdout",
     "output_type": "stream",
     "text": [
      "418\n"
     ]
    }
   ],
   "source": [
    "def is_safe_with_problemfixer(sequence): #used gpt\n",
    "    problems = 0\n",
    "    prev_diff = None\n",
    "    for i in range(len(sequence) -1):\n",
    "        diff = sequence[i+1] - sequence[i]\n",
    "\n",
    "        if not (-3 <= diff <= -1 or 1 <= diff <= 3):\n",
    "            problems += 1\n",
    "        else:\n",
    "            if prev_diff is None:\n",
    "                prev_diff = diff\n",
    "            elif (prev_diff > 0 and diff < 0) or (prev_diff < 0 and diff > 0):\n",
    "                problems += 1  \n",
    "            prev_diff = diff\n",
    "        if problems > 1:\n",
    "            return False\n",
    "        \n",
    "    return True\n",
    "\n",
    "safes = sum(1 for code in codes if is_safe_with_problemfixer(code))\n",
    "print(safes)\n",
    "        \n"
   ]
  }
 ],
 "metadata": {
  "kernelspec": {
   "display_name": "yee",
   "language": "python",
   "name": "python3"
  },
  "language_info": {
   "codemirror_mode": {
    "name": "ipython",
    "version": 3
   },
   "file_extension": ".py",
   "mimetype": "text/x-python",
   "name": "python",
   "nbconvert_exporter": "python",
   "pygments_lexer": "ipython3",
   "version": "3.13.0"
  }
 },
 "nbformat": 4,
 "nbformat_minor": 2
}
